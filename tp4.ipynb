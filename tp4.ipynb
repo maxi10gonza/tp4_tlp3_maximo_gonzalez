{
 "cells": [
  {
   "cell_type": "markdown",
   "id": "3e4771e8",
   "metadata": {},
   "source": [
    "# Trabajo Practico n4 - Introduccion a numpy.\n",
    "## Criterios de evaluación.\n",
    "\n",
    "* Se deben utilizar nombres de variables descriptivos y claros (Utilizar la nomeclatura correspondiente para los nombres de variables).\n",
    "* Comentarios claros y concisos que expliquen el propósito de cada sección del código.\n",
    "* Utilizar mensajes de commit **descriptivos**. (Puedes utilizar la extension CONVENTIONAL COMMIT de VS-CODE). \n",
    "* Entrega en tiempo y forma.\n",
    "* Todo el código desarrollado debe ser subido a un repositorio en GitHub (el nombre del repositorio de seguir la siguiente estructura: tp4_tlp3_nombre_apellido).\n",
    "* Para resolver las actividades se debe insertar casillas de codigo entre cada actividad del cuaderno de Jupyter\n",
    "\n",
    "### ¡Importante!\n",
    "**El incumplimiento de los criterios de evaluación restará puntos en la nota final del práctico!**"
   ]
  },
  {
   "cell_type": "markdown",
   "id": "6f3340d9",
   "metadata": {},
   "source": [
    "**Importaciones:**"
   ]
  },
  {
   "cell_type": "code",
   "execution_count": 21,
   "id": "783ab170",
   "metadata": {},
   "outputs": [],
   "source": [
    "import numpy as np\n",
    "from random import randint"
   ]
  },
  {
   "cell_type": "markdown",
   "id": "c5ba7292",
   "metadata": {},
   "source": [
    "**Actividad 1:**: Crea un array de NumPy que contenga los números del 0 al 9. (Debes utilizar un metodo de numpy para su creacion.)"
   ]
  },
  {
   "cell_type": "code",
   "execution_count": 4,
   "id": "75029034",
   "metadata": {},
   "outputs": [
    {
     "name": "stdout",
     "output_type": "stream",
     "text": [
      "[0 1 2 3 4 5 6 7 8 9]\n"
     ]
    }
   ],
   "source": [
    "#todo: \n",
    "numeros = np.arange(10)\n",
    "print(numeros)\n"
   ]
  },
  {
   "cell_type": "markdown",
   "id": "cb894927",
   "metadata": {},
   "source": [
    "**Actividad 2:** Crea un array de 5 ceros, y luego cambia el tercer elemento (índice 2) para que sea 5. (Debes utilizar un metodo de numpy para su creacion.)"
   ]
  },
  {
   "cell_type": "code",
   "execution_count": 8,
   "id": "b9cd04a0",
   "metadata": {},
   "outputs": [
    {
     "name": "stdout",
     "output_type": "stream",
     "text": [
      "[0 0 5 0 0]\n"
     ]
    }
   ],
   "source": [
    "#todo:\n",
    "ceros = np.zeros(5, dtype = int)\n",
    "ceros[2] = 5\n",
    "print(ceros)"
   ]
  },
  {
   "cell_type": "markdown",
   "id": "000352a3",
   "metadata": {},
   "source": [
    "**Actividad 3:** Genera una matriz 3x3 de números aleatorios entre 0 y 1."
   ]
  },
  {
   "cell_type": "code",
   "execution_count": 15,
   "id": "e74354c9",
   "metadata": {},
   "outputs": [
    {
     "name": "stdout",
     "output_type": "stream",
     "text": [
      "[[0.46 0.19 0.3 ]\n",
      " [0.36 0.32 0.85]\n",
      " [0.15 0.73 0.54]]\n"
     ]
    }
   ],
   "source": [
    "#todo:\n",
    "matriz = np.random.rand(3, 3)\n",
    "matriz_redondeada = np.round(matriz, 2)\n",
    "print(matriz_redondeada)"
   ]
  },
  {
   "cell_type": "markdown",
   "id": "6611aaf8",
   "metadata": {},
   "source": [
    "**Actividad 4:** Dado el siguiente array `arr = np.array([10, 20, 30, 40, 50])`\n",
    "1. Suma 5 a cada elemento.\n",
    "2. Multiplica todo por un numero aleatorio (utiliza el modulo random para generarlo.)"
   ]
  },
  {
   "cell_type": "code",
   "execution_count": 28,
   "id": "ed416e11",
   "metadata": {},
   "outputs": [
    {
     "name": "stdout",
     "output_type": "stream",
     "text": [
      "[15 25 35 45 55]\n",
      "El numero aleatorio es: 6\n",
      "[ 90 150 210 270 330]\n"
     ]
    }
   ],
   "source": [
    "#todo:\n",
    "\n",
    "arr = np.array([10, 20, 30, 40, 50])\n",
    "arr = arr + 5\n",
    "\n",
    "print(arr)\n",
    "\n",
    "numero_aleatorio = np.random.randint(1, 10)\n",
    "print(f\"El numero aleatorio es: {numero_aleatorio}\")\n",
    "\n",
    "arr = arr * numero_aleatorio\n",
    "\n",
    "print(arr)\n"
   ]
  },
  {
   "cell_type": "markdown",
   "id": "fbd05c4d",
   "metadata": {},
   "source": [
    "**Actividad 5:** Crea una matriz identidad de tamaño 4x4 (unos en la diagonal principal y ceros en el resto)."
   ]
  },
  {
   "cell_type": "code",
   "execution_count": 29,
   "id": "6811c19f",
   "metadata": {},
   "outputs": [
    {
     "name": "stdout",
     "output_type": "stream",
     "text": [
      "[[1. 0. 0. 0.]\n",
      " [0. 1. 0. 0.]\n",
      " [0. 0. 1. 0.]\n",
      " [0. 0. 0. 1.]]\n"
     ]
    }
   ],
   "source": [
    "#todo:\n",
    "matriz_identidad = np.eye(4)\n",
    "print(matriz_identidad)"
   ]
  },
  {
   "cell_type": "markdown",
   "id": "3ec18459",
   "metadata": {},
   "source": [
    "**Actividad 6:** Crea un array que comience en 0 hasta el 20, pero que solo tenga numeros pares yu luego realiza las 4 operaciones basicas. (suma, resta, multiplicacion, division)."
   ]
  },
  {
   "cell_type": "code",
   "execution_count": 60,
   "id": "f0c02872",
   "metadata": {},
   "outputs": [
    {
     "name": "stdout",
     "output_type": "stream",
     "text": [
      "El array es : [ 0  2  4  6  8 10 12 14 16 18 20]\n",
      "El numero aleatorio es: 8\n",
      "Suma (array + el numero aleatorio): [ 8 10 12 14 16 18 20 22 24 26 28]\n",
      "Resta (array - numero aleatorio) [-8 -6 -4 -2  0  2  4  6  8 10 12]\n",
      "Multiplicacion (array * numero aleatorio) [  0  16  32  48  64  80  96 112 128 144 160]\n",
      "Division (array / numero aleatorio) [0.   0.25 0.5  0.75 1.   1.25 1.5  1.75 2.   2.25 2.5 ]\n"
     ]
    }
   ],
   "source": [
    "#todo: \n",
    "\n",
    "arr_par = np.arange(0, 21, 2)\n",
    "print(f\"El array es : {arr_par}\")\n",
    "\n",
    "numero_aleatorio = np.random.randint(1, 10)\n",
    "print(f\"El numero aleatorio es: {numero_aleatorio}\")\n",
    "\n",
    "suma = arr_par + numero_aleatorio\n",
    "print(f\"Suma (array + el numero aleatorio): {suma}\")\n",
    "\n",
    "resta = arr_par - numero_aleatorio\n",
    "print(f\"Resta (array - numero aleatorio) {resta}\")\n",
    "\n",
    "multiplicacion = arr_par * numero_aleatorio\n",
    "print(f\"Multiplicacion (array * numero aleatorio) {multiplicacion}\")\n",
    "\n",
    "division = arr_par / numero_aleatorio\n",
    "print(f\"Division (array / numero aleatorio) {division}\")\n",
    "\n",
    "\n"
   ]
  }
 ],
 "metadata": {
  "kernelspec": {
   "display_name": "Python 3",
   "language": "python",
   "name": "python3"
  },
  "language_info": {
   "codemirror_mode": {
    "name": "ipython",
    "version": 3
   },
   "file_extension": ".py",
   "mimetype": "text/x-python",
   "name": "python",
   "nbconvert_exporter": "python",
   "pygments_lexer": "ipython3",
   "version": "3.12.9"
  }
 },
 "nbformat": 4,
 "nbformat_minor": 5
}
